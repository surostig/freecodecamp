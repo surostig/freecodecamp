{
 "cells": [
  {
   "cell_type": "raw",
   "id": "15262cb8-cb2c-427e-a81b-bbabcdc9c4ff",
   "metadata": {},
   "source": [
    "import re\n",
    "import secrets\n",
    "import string\n",
    "\n",
    "\n",
    "def generate_password(length, nums, special_chars, uppercase, lowercase):\n",
    "    # Define the possible characters for the password\n",
    "    letters = string.ascii_letters\n",
    "    digits = string.digits\n",
    "    symbols = string.punctuation\n",
    "\n",
    "    # Combine all characters\n",
    "    all_characters = letters + digits + symbols\n",
    "\n",
    "    while True:\n",
    "        password = ''\n",
    "        # Generate password\n",
    "        for _ in range(length):\n",
    "            password += secrets.choice(all_characters)"
   ]
  },
  {
   "cell_type": "markdown",
   "id": "fe9a78af-8ddb-46f3-95f0-8a3480155d81",
   "metadata": {},
   "source": [
    "<b>Step 51</b>\n",
    "Since the underscore character is a valid character for variable names, it is included in the \\w character class (equivalent to [a-zA-Z0-9_]), which can be conveniently used to match variable names.\n",
    "\n",
    "Therefore, the \\W character class is equivalent to [^a-zA-Z0-9_] with the underscore character that is not matched. For this reason you cannot use it to match all your special characters.\n",
    "\n",
    "Delete the last three lines in your code."
   ]
  },
  {
   "cell_type": "raw",
   "id": "57643bca-9367-4dff-afc7-389c4142b75b",
   "metadata": {},
   "source": []
  },
  {
   "cell_type": "markdown",
   "id": "6c44a38b-ca0c-4ae2-baf0-356aaaec33e7",
   "metadata": {},
   "source": [
    "<b>Step 52</b>\n",
    "Now, combine your raw string with an f-string and interpolate your symbols variable inside the character class. Remember that you can interpolate a variable within an f-string using curly brackets { }."
   ]
  },
  {
   "cell_type": "raw",
   "id": "ca716457-451e-42af-b07c-ae9c54b9c7cc",
   "metadata": {
    "collapsed": true,
    "jupyter": {
     "outputs_hidden": true
    }
   },
   "source": [
    "        (special_chars, fr'[{symbols}]')"
   ]
  },
  {
   "cell_type": "markdown",
   "id": "3f51931b-b285-44e4-aeb1-2b02f42d5ad7",
   "metadata": {},
   "source": [
    "<b>Step 53</b>\n",
    "Below the constraints list, add a comment saying Check constraints."
   ]
  },
  {
   "cell_type": "raw",
   "id": "3d74ebdb-1396-4061-b20f-52a3de5885d3",
   "metadata": {},
   "source": [
    "        constraints = [\n",
    "            (nums, r'\\d'),\n",
    "            (lowercase, r'[a-z]'),\n",
    "            (uppercase, r'[A-Z]'),            \n",
    "            (special_chars, fr'[{symbols}]')            \n",
    "        ]\n",
    "        # Check constraints\n",
    "        "
   ]
  },
  {
   "cell_type": "markdown",
   "id": "513b2046-6336-40c2-86b6-3428f7e1bd93",
   "metadata": {},
   "source": [
    "<b>Step 54</b>\n",
    "After your new comment, write a for loop to iterate over the constraints list. Use constraint and pattern as the loop variables."
   ]
  },
  {
   "cell_type": "raw",
   "id": "33d057d5-802e-4d1a-ad74-7fe0109d43eb",
   "metadata": {},
   "source": [
    "        # Check constraints\n",
    "        for constraint, pattern in constraints:\n",
    "            pass"
   ]
  },
  {
   "cell_type": "markdown",
   "id": "ba934644-3ecc-4e24-a432-7f8d62fd408d",
   "metadata": {},
   "source": [
    "<b>Step 55</b> Inside the <code>for</code> loop, call the <code>findall()</code> function passing <code>pattern</code> and <code>password</code> as the arguments."
   ]
  },
  {
   "cell_type": "raw",
   "id": "173e99c5-9ccb-4026-acea-b95e1bb735c8",
   "metadata": {},
   "source": [
    "        # Check constraints\n",
    "        for constraint, pattern in constraints:\n",
    "            re.findall(pattern,password)"
   ]
  },
  {
   "cell_type": "markdown",
   "id": "e968ca96-ef66-479b-a7e0-82a93cca1288",
   "metadata": {},
   "source": [
    "<div class=\"description-container\"><b>Step 56</b><div><section id=\"description\">\n",
    "<p>You are interested in the number of elements in the list returned by the <code>findall()</code> function.</p>\n",
    "<p>Pass your existent <code>findall()</code> call to the <code>len()</code> function.</p>\n",
    "</section></div></div>"
   ]
  },
  {
   "cell_type": "raw",
   "id": "830f585d-81c0-44a8-9ed0-1ad23933ba09",
   "metadata": {},
   "source": [
    "        # Check constraints\n",
    "        for constraint, pattern in constraints:\n",
    "            len(re.findall(pattern, password))"
   ]
  },
  {
   "cell_type": "markdown",
   "id": "86810a56-a744-4885-8c7e-1236078c6a9c",
   "metadata": {},
   "source": [
    "<div class=\"description-container\"><b id=\"content-start\">Step 57</b><div><section id=\"description\">\n",
    "<p>Inside your <code>for</code> loop, compare <code>constraint</code> and the length of the list returned by <code>findall()</code>. Use the <code>&lt;=</code> operator for that.</p>\n",
    "</section></div></div>"
   ]
  },
  {
   "cell_type": "raw",
   "id": "109d7e81-3ff5-4030-9fa2-1d46fb040b6a",
   "metadata": {},
   "source": [
    "        # Check constraints\n",
    "        for constraint, pattern in constraints:\n",
    "            constraint <= len(re.findall(pattern, password))"
   ]
  },
  {
   "cell_type": "markdown",
   "id": "1545947a-ac5a-4255-b04d-20e6aed993ed",
   "metadata": {},
   "source": [
    "<div class=\"description-container\"><b id=\"content-start\">Step 58</b><div><section id=\"description\">\n",
    "<p>Right before your <code>for</code> loop, declare a <code>count</code> variable and assign the value zero to this variable.</p>\n",
    "</section></div></div>"
   ]
  },
  {
   "cell_type": "raw",
   "id": "9e4ae7c0-0e10-4c78-9be5-28ccb4d933f4",
   "metadata": {},
   "source": [
    "        # Check constraints\n",
    "        count = 0\n",
    "        for constraint, pattern in constraints:\n",
    "            constraint <= len(re.findall(pattern, password))"
   ]
  },
  {
   "cell_type": "markdown",
   "id": "74ee3ad2-e129-41a0-8fc3-2d4ec2fb312c",
   "metadata": {},
   "source": [
    "<div class=\"description-container\"><b id=\"content-start\">Step 59</b><div><section id=\"description\">\n",
    "<p>Turn the expression inside your <code>for</code> loop into an <code>if</code> statement. Use the expression you wrote in the previous step as the <code>if</code> condition.</p>\n",
    "<p>Inside the new conditional statement, increment the <code>count</code> value by <code>1</code>.</p>\n",
    "</section></div></div>"
   ]
  },
  {
   "cell_type": "raw",
   "id": "a4867659-c160-4320-89f1-e986198f5276",
   "metadata": {},
   "source": [
    "        # Check constraints\n",
    "        count = 0\n",
    "        for constraint, pattern in constraints:\n",
    "            if constraint <= len(re.findall(pattern, password)):\n",
    "                count += 1"
   ]
  },
  {
   "cell_type": "markdown",
   "id": "aa660ccc-f318-49c5-a85f-1ecd35cc7dfd",
   "metadata": {},
   "source": [
    "<div class=\"description-container\"><b id=\"content-start\">Step 60</b><div><section id=\"description\">\n",
    "<p>Finally, after the <code>for</code> loop, create an <code>if</code> statement to check if <code>count</code> is equal to <code>4</code> and break out of the <code>while</code> loop by using the <code>break</code> statement.</p>\n",
    "</section></div></div>"
   ]
  },
  {
   "cell_type": "raw",
   "id": "2cad5bf7-f710-4596-8235-e3e317fc5065",
   "metadata": {},
   "source": [
    "        # Check constraints\n",
    "        count = 0\n",
    "        for constraint, pattern in constraints:\n",
    "            if constraint <= len(re.findall(pattern, password)):\n",
    "                count += 1\n",
    "        \n",
    "        if count == 4:\n",
    "            break"
   ]
  },
  {
   "cell_type": "markdown",
   "id": "22df7894-9a34-480a-bdc6-b37a46f3cc46",
   "metadata": {
    "jp-MarkdownHeadingCollapsed": true
   },
   "source": [
    "<div class=\"description-container\"><b id=\"content-start\">Step 61</b><div><section id=\"description\">\n",
    "<p>Instead of using a loop and a counter variable, you can achieve the same result with a different approach, which you are going to implement in the next few steps.</p>\n",
    "<p><code>all()</code> is a built-in Python function that returns <code>True</code> if all the elements inside a given iterable evaluate to <code>True</code>. Otherwise, it returns <code>False</code>.</p>\n",
    "<p>Replace your existing <code>for</code> loop and two <code>if</code> statements with a single <code>if</code> statement. For the <code>if</code> condition, use a call to the <code>all()</code> function and pass an empty list as the argument to the function call.</p>\n",
    "</section></div></div>"
   ]
  },
  {
   "cell_type": "raw",
   "id": "437d48b6-3202-4714-872c-5a47034e95c9",
   "metadata": {},
   "source": [
    "            if all([]):"
   ]
  },
  {
   "cell_type": "markdown",
   "id": "3a8c1fb3-cf8e-41bc-b970-8be72785c4b4",
   "metadata": {},
   "source": [
    "<div class=\"description-container\"><b id=\"content-start\">Step 62</b><div><section id=\"description\">\n",
    "<p>Right now, <code>all()</code> is taking an empty list as the argument. Populate that empty list using the comprehension syntax so that the list stores the results of evaluating the expression <code>constraint &lt;= len(re.findall(pattern, password))</code> for each <code>constraint</code>-<code>pattern</code> tuple in the <code>constraints</code> list.</p>\n",
    "<p>In this way, you'll break out of the <code>while</code> loop only after all the requirements are fulfilled.</p>\n",
    "</section></div></div>"
   ]
  },
  {
   "cell_type": "raw",
   "id": "c21387d5-b36c-4e60-9b3a-86419eceb14e",
   "metadata": {},
   "source": [
    "        if all([constraint <= len(re.findall(pattern, password)) for constraint, pattern in constraints]):"
   ]
  },
  {
   "cell_type": "markdown",
   "id": "7e08e1f2-f223-4dbe-9e11-f35f4cc7f4de",
   "metadata": {},
   "source": [
    "<div class=\"description-container\"><b id=\"content-start\">Step 63</b><div><section id=\"description\">\n",
    "<p>Having <code>all([expression for i in iterable])</code>, means that a new list is created by evaluating <code>expression</code> for each <code>i</code> in <code>iterable</code>. After the <code>all()</code> function iterates over the newly created list, the list is deleted automatically, since it is no longer needed.</p>\n",
    "<p>Memory can be saved by using a generator expression. Generator expressions follow the syntax of list comprehensions but they use parentheses instead of square brackets.</p>\n",
    "<p>Change your list comprehension into a generator expression by removing the square brackets.</p>\n",
    "</section></div></div>"
   ]
  },
  {
   "cell_type": "raw",
   "id": "e08ca0c3-62be-4ad5-9ea6-2c8645b476c2",
   "metadata": {},
   "source": [
    "        if all(\n",
    "                constraint <= len(re.findall(pattern, password))\n",
    "                for constraint, pattern in constraints\n",
    "        ):"
   ]
  },
  {
   "cell_type": "markdown",
   "id": "37cd3268-5325-4502-accd-0d051b4f4729",
   "metadata": {},
   "source": [
    "<div class=\"description-container\"><b id=\"content-start\">Step 64</b><div><section id=\"description\">\n",
    "<p>You don't need the <code>count</code> variable anymore. Delete this variable and its value.</p>\n",
    "</section></div></div>"
   ]
  },
  {
   "cell_type": "raw",
   "id": "5d883c42-5fef-439d-b88c-756dc4450475",
   "metadata": {},
   "source": [
    "        # Check constraints\n",
    "        if all(\n",
    "            constraint <= len(re.findall(pattern, password))\n",
    "            for constraint, pattern in constraints\n",
    "        ):"
   ]
  },
  {
   "cell_type": "markdown",
   "id": "428e1e94-f79b-4068-956b-f398bac91c9b",
   "metadata": {},
   "source": [
    "<div class=\"description-container\"><b id=\"content-start\">Step 65</b><div><section id=\"description\">\n",
    "<p>Now it's time to test your function. Uncomment the last two lines in your code and modify the function call passing 5 arguments. Use <code>8</code> for the length and <code>1</code> for the other four constraints.</p>\n",
    "</section></div></div>"
   ]
  },
  {
   "cell_type": "raw",
   "id": "f76b62d6-8561-4245-b4ab-5570bf97420d",
   "metadata": {},
   "source": [
    "new_password = generate_password(8, 1, 1, 1, 1)\n",
    "print(new_password)"
   ]
  },
  {
   "cell_type": "markdown",
   "id": "42e91e94-96c0-4ffc-a228-c0bea0fa8443",
   "metadata": {},
   "source": [
    "<div class=\"description-container\"><b id=\"content-start\">Step 66</b><div><section id=\"description\">\n",
    "<p>It works, but there are still a couple of things you can improve. First of all, calling a function with 5 arguments can create confusion on which value will be assigned to which parameter.</p>\n",
    "<p>You can call a function using keyword arguments, that is writing the parameter name explicitly followed by the assignment operator and the value. For example:</p>\n",
    "<details class=\"code-details\" open=\"\"><summary class=\"code-details-summary\">Example Code</summary><pre class=\"language-py\" tabindex=\"0\" role=\"region\" aria-label=\"python code example\"><code class=\"language-py\"><span class=\"token keyword\">def</span> <span class=\"token function\">add</span><span class=\"token punctuation\">(</span>x<span class=\"token punctuation\">,</span> y<span class=\"token punctuation\">)</span><span class=\"token punctuation\">:</span>\n",
    "    <span class=\"token keyword\">return</span> x <span class=\"token operator\">+</span> y\n",
    "\n",
    "add<span class=\"token punctuation\">(</span>x<span class=\"token operator\">=</span><span class=\"token number\">1</span><span class=\"token punctuation\">,</span> y<span class=\"token operator\">=</span><span class=\"token number\">7</span><span class=\"token punctuation\">)</span> <span class=\"token comment\"># 8</span>\n",
    "</code></pre></details>\n",
    "<p>Modify your function call to use keyword arguments.</p>\n",
    "</section></div></div>"
   ]
  },
  {
   "cell_type": "raw",
   "id": "fe73bbfd-5970-4aa3-bedd-8d43a11125a2",
   "metadata": {},
   "source": [
    "new_password = generate_password(length=8, nums=1, special_chars=1, uppercase=1, lowercase=1)\n",
    "print(new_password)"
   ]
  },
  {
   "cell_type": "markdown",
   "id": "71bd3e5b-c922-4bbb-a25a-e5b462990c05",
   "metadata": {},
   "source": [
    "<b>Step 67</b><br>\n",
    "As long as all the arguments in a function call are keyword arguments, the order of the arguments doesn't matter.\n",
    "\n",
    "To confirm this, try to change the order of <code>length=8</code> and <code>nums=1</code> in your function call."
   ]
  },
  {
   "cell_type": "raw",
   "id": "09600ecf-b6d6-4257-9ba5-8ab040dff1bd",
   "metadata": {},
   "source": [
    "new_password = generate_password(nums=1, length=8, special_chars=1, uppercase=1, lowercase=1)\n",
    "print(new_password)"
   ]
  },
  {
   "cell_type": "markdown",
   "id": "4f09306f-afbe-4f9a-b54a-8ec1891e907c",
   "metadata": {},
   "source": [
    "<b>Step 68</b>\n",
    "Modify your function declaration to take default parameters. <code>Use 16</code> for the <code>length</code> and <code>1</code> for the other constraints."
   ]
  },
  {
   "cell_type": "raw",
   "id": "e9f5918b-4399-497a-8664-e9c7085da048",
   "metadata": {},
   "source": [
    "def generate_password(length=16, nums=1, special_chars=1, uppercase=1, lowercase=1):"
   ]
  },
  {
   "cell_type": "markdown",
   "id": "83c5471d-43b3-476c-92f3-f7d0a60f5f2f",
   "metadata": {},
   "source": [
    "<b>Step 69</b>\n",
    "When you combine default arguments with keyword arguments, you are able to explicitly pass fewer arguments than those required by the function. The arguments that are not explicitly passed to the function call will take their default values.\n",
    "\n",
    "Modify your <code>generate_password()</code> call to take only <code>length=8</code>."
   ]
  },
  {
   "cell_type": "raw",
   "id": "92d0d35f-428d-4a1b-b25e-4ce5664ec06e",
   "metadata": {},
   "source": [
    "new_password = generate_password(length=8)\n",
    "print(new_password)"
   ]
  },
  {
   "cell_type": "markdown",
   "id": "a2e946ee-132f-4412-9005-85e2b76146d2",
   "metadata": {},
   "source": [
    "<b>Step 70</b> Now, remove all the arguments from your function call."
   ]
  },
  {
   "cell_type": "raw",
   "id": "751fb14b-6ad8-49bb-9c84-2c51bd8317fa",
   "metadata": {},
   "source": [
    "new_password = generate_password()\n",
    "print(new_password)"
   ]
  },
  {
   "cell_type": "markdown",
   "id": "455ff5f7-ec76-4f86-924e-d16f3e644548",
   "metadata": {},
   "source": [
    "<b>Step 71</b>\n",
    "Modify your <code>print()</code> call to take the string <code>'Generated password:'</code> as the first argument, before <code>new_password</code>."
   ]
  },
  {
   "cell_type": "raw",
   "id": "1f1154a7-9980-4b35-86f0-0d32b2c48182",
   "metadata": {},
   "source": [
    "new_password = generate_password()\n",
    "print('Generated password:', new_password)"
   ]
  },
  {
   "cell_type": "markdown",
   "id": "e1e7adfa-805e-4dba-b000-e91ea8fae277",
   "metadata": {},
   "source": [
    "<b>Step 72</b>\n",
    "Finally, put the last two lines of your code inside an <code>if</code> statement that execute when <code>__name__ == '__main__'</code>. In this way, your code won't run when imported as a module. Otherwise, it will call <code>generate_password()</code> and print the generated password.\n",
    "\n",
    "With that, the password generator project is complete."
   ]
  },
  {
   "cell_type": "raw",
   "id": "fe34b770-2566-4ccb-8b0b-950c244f6d1a",
   "metadata": {},
   "source": [
    "if __name__ =='__main__':\n",
    "    new_password = generate_password()\n",
    "    print('Generated password:', new_password)"
   ]
  }
 ],
 "metadata": {
  "kernelspec": {
   "display_name": "Python 3 (ipykernel)",
   "language": "python",
   "name": "python3"
  },
  "language_info": {
   "codemirror_mode": {
    "name": "ipython",
    "version": 3
   },
   "file_extension": ".py",
   "mimetype": "text/x-python",
   "name": "python",
   "nbconvert_exporter": "python",
   "pygments_lexer": "ipython3",
   "version": "3.11.9"
  }
 },
 "nbformat": 4,
 "nbformat_minor": 5
}
